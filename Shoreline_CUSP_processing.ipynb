{
 "cells": [
  {
   "cell_type": "code",
   "execution_count": 1,
   "id": "4f718fd3",
   "metadata": {},
   "outputs": [],
   "source": [
    "import pandas as pd\n",
    "import geopandas as gpd\n",
    "import os"
   ]
  },
  {
   "cell_type": "code",
   "execution_count": 2,
   "id": "184c1b0c",
   "metadata": {},
   "outputs": [],
   "source": [
    "file_path = '/rapids/notebooks/sciclone/geograd/Miranda/VIMS/CUSP_atlantic/North_Atlantic.shp'\n",
    "base_path = '/rapids/notebooks/sciclone/geograd/Miranda/VIMS/CUSP_atlantic'"
   ]
  },
  {
   "cell_type": "code",
   "execution_count": 3,
   "id": "78554346",
   "metadata": {},
   "outputs": [],
   "source": [
    "gdf = gpd.read_file(file_path)\n",
    "gdf = gdf.to_crs(\"EPSG:4326\")"
   ]
  },
  {
   "cell_type": "code",
   "execution_count": 4,
   "id": "0af455be",
   "metadata": {},
   "outputs": [],
   "source": [
    "va_gdf = gdf[gdf.FIPS_ALPHA == 'VA']"
   ]
  },
  {
   "cell_type": "code",
   "execution_count": 5,
   "id": "c5a7ea15",
   "metadata": {},
   "outputs": [
    {
     "name": "stderr",
     "output_type": "stream",
     "text": [
      "/opt/conda/envs/rapids/lib/python3.7/site-packages/geopandas/geodataframe.py:1351: SettingWithCopyWarning: \n",
      "A value is trying to be set on a copy of a slice from a DataFrame.\n",
      "Try using .loc[row_indexer,col_indexer] = value instead\n",
      "\n",
      "See the caveats in the documentation: https://pandas.pydata.org/pandas-docs/stable/user_guide/indexing.html#returning-a-view-versus-a-copy\n",
      "  super().__setitem__(key, value)\n"
     ]
    }
   ],
   "source": [
    "va_gdf['year'] = va_gdf.SRC_DATE.apply(lambda x: x[0:4])"
   ]
  },
  {
   "cell_type": "code",
   "execution_count": 6,
   "id": "c6c7b1b3",
   "metadata": {},
   "outputs": [
    {
     "data": {
      "text/plain": [
       "(56894, 17)"
      ]
     },
     "execution_count": 6,
     "metadata": {},
     "output_type": "execute_result"
    }
   ],
   "source": [
    "va_gdf.shape"
   ]
  },
  {
   "cell_type": "code",
   "execution_count": 7,
   "id": "61bd0ad4",
   "metadata": {},
   "outputs": [
    {
     "data": {
      "text/plain": [
       "2018    22372\n",
       "2008     6410\n",
       "2007     5628\n",
       "2005     5367\n",
       "2009     4937\n",
       "2014     4133\n",
       "2006     2587\n",
       "2003     2476\n",
       "2015      921\n",
       "2016      523\n",
       "2010      504\n",
       "2012      382\n",
       "1990      225\n",
       "2013      135\n",
       "2019      114\n",
       "2011      113\n",
       "2017       39\n",
       "2021       25\n",
       "2020        3\n",
       "Name: year, dtype: int64"
      ]
     },
     "execution_count": 7,
     "metadata": {},
     "output_type": "execute_result"
    }
   ],
   "source": [
    "va_gdf['year'].value_counts()"
   ]
  },
  {
   "cell_type": "code",
   "execution_count": 8,
   "id": "b3c1a983",
   "metadata": {},
   "outputs": [
    {
     "data": {
      "text/plain": [
       "Natural.Apparent.Marsh Or Swamp                   23165\n",
       "Natural.Mean High Water                           20197\n",
       "Man-made.Bulkhead Or Sea Wall                      5040\n",
       "Man-made.Rip Rap                                   4519\n",
       "Natural.Great Lake Or Lake Or Pond                  963\n",
       "Man-made.Ramp                                       834\n",
       "Natural.River Or Stream                             456\n",
       "Breakwater.Bare                                     414\n",
       "Natural.Mean High Water.Approximate                 388\n",
       "Undetermined.Approximate                            251\n",
       "Groin.Bare                                          221\n",
       "Man-made.Wharf Or Quay                               96\n",
       "Jetty.Bare                                           86\n",
       "Man-made.Canal.Non-navigable                         58\n",
       "Natural.Great Lake Or Lake Or Pond.Approximate       41\n",
       "Man-made.Canal.Navigable                             40\n",
       "Man-made.Bulkhead Or Sea Wall.Ruins                  33\n",
       "Man-made.Drydock.Permanent                           24\n",
       "Undetermined                                         23\n",
       "Man-made.Slipway                                     21\n",
       "Man-made.Lock                                         8\n",
       "Man-made                                              8\n",
       "Natural.River Or Stream.Approximate                   4\n",
       "Man-made.Wharf Or Quay.Ruins                          3\n",
       "Undetermined.Estimated                                1\n",
       "Name: ATTRIBUTE, dtype: int64"
      ]
     },
     "execution_count": 8,
     "metadata": {},
     "output_type": "execute_result"
    }
   ],
   "source": [
    "va_gdf['ATTRIBUTE'].value_counts()"
   ]
  },
  {
   "cell_type": "code",
   "execution_count": 9,
   "id": "07a7b584",
   "metadata": {},
   "outputs": [],
   "source": [
    "selected_features = ['Man-made.Bulkhead Or Sea Wall', 'Man-made.Rip Rap', 'Man-made.Ramp', 'Breakwater.Bare', 'Groin.Bare', 'Man-made.Wharf Or Quay', 'Jetty.Bare']"
   ]
  },
  {
   "cell_type": "code",
   "execution_count": 122,
   "id": "38f276d6",
   "metadata": {},
   "outputs": [],
   "source": [
    "# Filter the features\n",
    "\n",
    "# va_gdf = va_gdf[(va_gdf.ATTRIBUTE.isin(selected_features)) & (va_gdf.year=='2018')]"
   ]
  },
  {
   "cell_type": "code",
   "execution_count": 12,
   "id": "4c36e53d",
   "metadata": {},
   "outputs": [],
   "source": [
    "va_gdf = va_gdf[va_gdf.ATTRIBUTE.isin(selected_features)]"
   ]
  },
  {
   "cell_type": "code",
   "execution_count": 13,
   "id": "079ac320",
   "metadata": {},
   "outputs": [
    {
     "data": {
      "text/plain": [
       "Man-made.Bulkhead Or Sea Wall    5040\n",
       "Man-made.Rip Rap                 4519\n",
       "Man-made.Ramp                     834\n",
       "Breakwater.Bare                   414\n",
       "Groin.Bare                        221\n",
       "Man-made.Wharf Or Quay             96\n",
       "Jetty.Bare                         86\n",
       "Name: ATTRIBUTE, dtype: int64"
      ]
     },
     "execution_count": 13,
     "metadata": {},
     "output_type": "execute_result"
    }
   ],
   "source": [
    "va_gdf.ATTRIBUTE.value_counts()"
   ]
  },
  {
   "cell_type": "code",
   "execution_count": 14,
   "id": "0d30f78d",
   "metadata": {},
   "outputs": [
    {
     "name": "stderr",
     "output_type": "stream",
     "text": [
      "/opt/conda/envs/rapids/lib/python3.7/site-packages/ipykernel_launcher.py:1: UserWarning: Geometry is in a geographic CRS. Results from 'buffer' are likely incorrect. Use 'GeoSeries.to_crs()' to re-project geometries to a projected CRS before this operation.\n",
      "\n",
      "  \"\"\"Entry point for launching an IPython kernel.\n"
     ]
    }
   ],
   "source": [
    "va_gdf['geometry'] = va_gdf['geometry'].buffer(0.00002)"
   ]
  },
  {
   "cell_type": "code",
   "execution_count": 15,
   "id": "8ea02bbc",
   "metadata": {},
   "outputs": [
    {
     "data": {
      "text/plain": [
       "<Geographic 2D CRS: EPSG:4326>\n",
       "Name: WGS 84\n",
       "Axis Info [ellipsoidal]:\n",
       "- Lat[north]: Geodetic latitude (degree)\n",
       "- Lon[east]: Geodetic longitude (degree)\n",
       "Area of Use:\n",
       "- name: World.\n",
       "- bounds: (-180.0, -90.0, 180.0, 90.0)\n",
       "Datum: World Geodetic System 1984 ensemble\n",
       "- Ellipsoid: WGS 84\n",
       "- Prime Meridian: Greenwich"
      ]
     },
     "execution_count": 15,
     "metadata": {},
     "output_type": "execute_result"
    }
   ],
   "source": [
    "va_gdf.crs"
   ]
  },
  {
   "cell_type": "code",
   "execution_count": 126,
   "id": "115320cd",
   "metadata": {},
   "outputs": [],
   "source": [
    "va_gdf.to_file(os.path.join(base_path, 'va_2018_selected_cusp.geojson'), driver='GeoJSON')"
   ]
  },
  {
   "cell_type": "code",
   "execution_count": null,
   "id": "6a55c07e",
   "metadata": {},
   "outputs": [],
   "source": []
  }
 ],
 "metadata": {
  "kernelspec": {
   "display_name": "Python 3",
   "language": "python",
   "name": "python3"
  },
  "language_info": {
   "codemirror_mode": {
    "name": "ipython",
    "version": 3
   },
   "file_extension": ".py",
   "mimetype": "text/x-python",
   "name": "python",
   "nbconvert_exporter": "python",
   "pygments_lexer": "ipython3",
   "version": "3.7.10"
  }
 },
 "nbformat": 4,
 "nbformat_minor": 5
}

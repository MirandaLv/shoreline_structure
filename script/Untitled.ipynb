{
 "cells": [
  {
   "cell_type": "code",
   "execution_count": 20,
   "id": "320d6147",
   "metadata": {},
   "outputs": [],
   "source": [
    "# Divert the dataset into 256/512 result folder\n",
    "import pandas as pd\n",
    "import os\n",
    "from os.path import dirname as up\n",
    "import shutil\n",
    "\n",
    "path_cur = os.path.abspath('.')"
   ]
  },
  {
   "cell_type": "code",
   "execution_count": 21,
   "id": "a79c7697",
   "metadata": {},
   "outputs": [],
   "source": [
    "logs_backbone_all = os.path.join(up(path_cur), 'logs_backbone_paper')\n",
    "logs_noback_all = os.path.join(up(path_cur), 'logs_paper')\n",
    "\n",
    "logs_256 = os.path.join(up(path_cur), 'logs_256')"
   ]
  },
  {
   "cell_type": "code",
   "execution_count": 22,
   "id": "a5c1bef3",
   "metadata": {},
   "outputs": [],
   "source": [
    "all_backbone_256 = [folder for folder in os.listdir(logs_backbone_all) if os.path.isdir(os.path.join(logs_backbone_all, folder)) and '.ipynb' not in folder and '256' in folder]\n",
    "all_noback_256 = [folder for folder in os.listdir(logs_noback_all) if os.path.isdir(os.path.join(logs_noback_all, folder)) and '.ipynb' not in folder and '256' in folder]"
   ]
  },
  {
   "cell_type": "code",
   "execution_count": 29,
   "id": "07938421",
   "metadata": {},
   "outputs": [
    {
     "name": "stdout",
     "output_type": "stream",
     "text": [
      "unet_resnet18_0.002_Image_after_2010_merged_256\n",
      "unet_resnet50_0.002_Image_after_2010_merged_256\n",
      "unet_resnet101_0.002_Image_after_2010_merged_256\n",
      "unet_vgg11_0.002_Image_after_2010_merged_256\n",
      "unet_resnet18_0.002_Image_allyear_merged_256\n",
      "unet_resnet50_0.002_Image_allyear_merged_256\n",
      "unet_resnet101_0.002_Image_allyear_merged_256\n",
      "unet_vgg11_0.002_Image_allyear_merged_256\n",
      "unet_resnet18_0.002_Image_after_2010_VA_256\n",
      "unet_resnet50_0.002_Image_after_2010_VA_256\n",
      "unet_resnet101_0.002_Image_after_2010_VA_256\n",
      "unet_vgg11_0.002_Image_after_2010_VA_256\n",
      "unet_resnet18_0.002_Image_allyear_VA_256\n",
      "unet_resnet50_0.002_Image_allyear_VA_256\n",
      "unet_resnet101_0.002_Image_allyear_VA_256\n",
      "unet_vgg11_0.002_Image_allyear_VA_256\n"
     ]
    }
   ],
   "source": [
    "subfolders = ['Image_after_2010_merged_256', 'Image_allyear_merged_256', 'Image_after_2010_VA_256', 'Image_allyear_VA_256']\n",
    "\n",
    "for subfolder in subfolders:\n",
    "    \n",
    "    if not os.path.isdir(os.path.join(logs_256, subfolder)):\n",
    "        os.mkdir(os.path.join(logs_256, subfolder))\n",
    "    \n",
    "    for f in all_backbone_256:\n",
    "        if subfolder in f:\n",
    "            print(f)\n",
    "            fpath = os.path.join(logs_backbone_all, f)\n",
    "            dpath = os.path.join(logs_256, subfolder, f)\n",
    "            shutil.copytree(fpath, dpath)"
   ]
  },
  {
   "cell_type": "code",
   "execution_count": 19,
   "id": "e3cdf5de",
   "metadata": {},
   "outputs": [
    {
     "data": {
      "text/plain": [
       "['unet_0.002_Image_allyear_merged_256',\n",
       " 'unet_0.002_Image_after_2010_merged_256',\n",
       " 'unet_0.002_Image_after_2010_VA_256',\n",
       " 'unet_0.002_Image_allyear_VA_256']"
      ]
     },
     "execution_count": 19,
     "metadata": {},
     "output_type": "execute_result"
    }
   ],
   "source": [
    "all_noback_256"
   ]
  },
  {
   "cell_type": "code",
   "execution_count": 30,
   "id": "3d3c615b",
   "metadata": {},
   "outputs": [
    {
     "name": "stdout",
     "output_type": "stream",
     "text": [
      "unet_0.002_Image_after_2010_merged_256\n",
      "unet_0.002_Image_allyear_merged_256\n",
      "unet_0.002_Image_after_2010_VA_256\n",
      "unet_0.002_Image_allyear_VA_256\n"
     ]
    }
   ],
   "source": [
    "for subfolder in subfolders:\n",
    "    for f in all_noback_256:\n",
    "        if subfolder in f:\n",
    "            print(f)\n",
    "            fpath = os.path.join(logs_noback_all, f)\n",
    "            dpath = os.path.join(logs_256, subfolder, f)\n",
    "            shutil.copytree(fpath, dpath)"
   ]
  },
  {
   "cell_type": "code",
   "execution_count": 32,
   "id": "45685ad3",
   "metadata": {},
   "outputs": [],
   "source": [
    "import numpy as np\n",
    "from sklearn.metrics import jaccard_score\n",
    "y_true = np.array([[0, 1, 1],[1, 1, 0]])\n",
    "y_pred = np.array([[1, 1, 1],[1, 0, 0]])"
   ]
  },
  {
   "cell_type": "code",
   "execution_count": 34,
   "id": "05d64eae",
   "metadata": {},
   "outputs": [
    {
     "data": {
      "text/plain": [
       "0.6666666666666666"
      ]
     },
     "execution_count": 34,
     "metadata": {},
     "output_type": "execute_result"
    }
   ],
   "source": [
    "jaccard_score(y_true[0], y_pred[0])"
   ]
  },
  {
   "cell_type": "code",
   "execution_count": 36,
   "id": "3d362e0c",
   "metadata": {},
   "outputs": [
    {
     "data": {
      "text/plain": [
       "0.5"
      ]
     },
     "execution_count": 36,
     "metadata": {},
     "output_type": "execute_result"
    }
   ],
   "source": [
    "jaccard_score(y_true[0], y_pred[0], average=\"micro\")"
   ]
  },
  {
   "cell_type": "code",
   "execution_count": 37,
   "id": "a3d45d37",
   "metadata": {},
   "outputs": [
    {
     "data": {
      "text/plain": [
       "0.3333333333333333"
      ]
     },
     "execution_count": 37,
     "metadata": {},
     "output_type": "execute_result"
    }
   ],
   "source": [
    "jaccard_score(y_true[0], y_pred[0], average=\"macro\")"
   ]
  },
  {
   "cell_type": "code",
   "execution_count": 38,
   "id": "91ba5667",
   "metadata": {},
   "outputs": [
    {
     "data": {
      "text/plain": [
       "0.6666666666666666"
      ]
     },
     "execution_count": 38,
     "metadata": {},
     "output_type": "execute_result"
    }
   ],
   "source": [
    "jaccard_score(y_true[0], y_pred[0])"
   ]
  },
  {
   "cell_type": "code",
   "execution_count": null,
   "id": "8a0d709f",
   "metadata": {},
   "outputs": [],
   "source": []
  },
  {
   "cell_type": "code",
   "execution_count": null,
   "id": "dc6fc4d1",
   "metadata": {},
   "outputs": [],
   "source": []
  },
  {
   "cell_type": "code",
   "execution_count": null,
   "id": "3a2d6ef5",
   "metadata": {},
   "outputs": [],
   "source": []
  },
  {
   "cell_type": "code",
   "execution_count": null,
   "id": "8f8bfd4e",
   "metadata": {},
   "outputs": [],
   "source": []
  }
 ],
 "metadata": {
  "kernelspec": {
   "display_name": "vims",
   "language": "python",
   "name": "vims"
  },
  "language_info": {
   "codemirror_mode": {
    "name": "ipython",
    "version": 3
   },
   "file_extension": ".py",
   "mimetype": "text/x-python",
   "name": "python",
   "nbconvert_exporter": "python",
   "pygments_lexer": "ipython3",
   "version": "3.7.10"
  }
 },
 "nbformat": 4,
 "nbformat_minor": 5
}
